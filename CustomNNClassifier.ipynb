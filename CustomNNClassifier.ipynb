{
 "cells": [
  {
   "cell_type": "markdown",
   "metadata": {},
   "source": [
    "### Basic ML Solutions\n",
    "# Classification Algorithim using Custom NN"
   ]
  },
  {
   "cell_type": "code",
   "execution_count": 32,
   "metadata": {},
   "outputs": [],
   "source": [
    "import pandas as pd\n",
    "import numpy as np\n",
    "import seaborn as sns\n",
    "import matplotlib.pyplot as plt\n",
    "import torch "
   ]
  },
  {
   "cell_type": "code",
   "execution_count": 2,
   "metadata": {},
   "outputs": [
    {
     "data": {
      "text/html": [
       "<div>\n",
       "<style scoped>\n",
       "    .dataframe tbody tr th:only-of-type {\n",
       "        vertical-align: middle;\n",
       "    }\n",
       "\n",
       "    .dataframe tbody tr th {\n",
       "        vertical-align: top;\n",
       "    }\n",
       "\n",
       "    .dataframe thead th {\n",
       "        text-align: right;\n",
       "    }\n",
       "</style>\n",
       "<table border=\"1\" class=\"dataframe\">\n",
       "  <thead>\n",
       "    <tr style=\"text-align: right;\">\n",
       "      <th></th>\n",
       "      <th>Serial No.</th>\n",
       "      <th>GRE Score</th>\n",
       "      <th>TOEFL Score</th>\n",
       "      <th>University Rating</th>\n",
       "      <th>SOP</th>\n",
       "      <th>LOR</th>\n",
       "      <th>CGPA</th>\n",
       "      <th>Research</th>\n",
       "      <th>Chance of Admit</th>\n",
       "    </tr>\n",
       "  </thead>\n",
       "  <tbody>\n",
       "    <tr>\n",
       "      <th>262</th>\n",
       "      <td>263</td>\n",
       "      <td>308</td>\n",
       "      <td>103</td>\n",
       "      <td>2</td>\n",
       "      <td>2.5</td>\n",
       "      <td>4.0</td>\n",
       "      <td>8.36</td>\n",
       "      <td>1</td>\n",
       "      <td>0.70</td>\n",
       "    </tr>\n",
       "    <tr>\n",
       "      <th>240</th>\n",
       "      <td>241</td>\n",
       "      <td>296</td>\n",
       "      <td>101</td>\n",
       "      <td>1</td>\n",
       "      <td>2.5</td>\n",
       "      <td>3.0</td>\n",
       "      <td>7.68</td>\n",
       "      <td>0</td>\n",
       "      <td>0.60</td>\n",
       "    </tr>\n",
       "    <tr>\n",
       "      <th>383</th>\n",
       "      <td>384</td>\n",
       "      <td>300</td>\n",
       "      <td>100</td>\n",
       "      <td>3</td>\n",
       "      <td>3.0</td>\n",
       "      <td>3.5</td>\n",
       "      <td>8.26</td>\n",
       "      <td>0</td>\n",
       "      <td>0.62</td>\n",
       "    </tr>\n",
       "    <tr>\n",
       "      <th>385</th>\n",
       "      <td>386</td>\n",
       "      <td>335</td>\n",
       "      <td>117</td>\n",
       "      <td>5</td>\n",
       "      <td>5.0</td>\n",
       "      <td>5.0</td>\n",
       "      <td>9.82</td>\n",
       "      <td>1</td>\n",
       "      <td>0.96</td>\n",
       "    </tr>\n",
       "    <tr>\n",
       "      <th>77</th>\n",
       "      <td>78</td>\n",
       "      <td>301</td>\n",
       "      <td>99</td>\n",
       "      <td>2</td>\n",
       "      <td>3.0</td>\n",
       "      <td>2.0</td>\n",
       "      <td>8.22</td>\n",
       "      <td>0</td>\n",
       "      <td>0.64</td>\n",
       "    </tr>\n",
       "  </tbody>\n",
       "</table>\n",
       "</div>"
      ],
      "text/plain": [
       "     Serial No.  GRE Score  TOEFL Score  University Rating  SOP  LOR   CGPA  \\\n",
       "262         263        308          103                  2  2.5   4.0  8.36   \n",
       "240         241        296          101                  1  2.5   3.0  7.68   \n",
       "383         384        300          100                  3  3.0   3.5  8.26   \n",
       "385         386        335          117                  5  5.0   5.0  9.82   \n",
       "77           78        301           99                  2  3.0   2.0  8.22   \n",
       "\n",
       "     Research  Chance of Admit   \n",
       "262         1              0.70  \n",
       "240         0              0.60  \n",
       "383         0              0.62  \n",
       "385         1              0.96  \n",
       "77          0              0.64  "
      ]
     },
     "execution_count": 2,
     "metadata": {},
     "output_type": "execute_result"
    }
   ],
   "source": [
    "admit_data = pd.read_csv('admission_predict.csv')\n",
    "admit_data.sample(5)"
   ]
  },
  {
   "cell_type": "code",
   "execution_count": 3,
   "metadata": {},
   "outputs": [
    {
     "data": {
      "text/html": [
       "<div>\n",
       "<style scoped>\n",
       "    .dataframe tbody tr th:only-of-type {\n",
       "        vertical-align: middle;\n",
       "    }\n",
       "\n",
       "    .dataframe tbody tr th {\n",
       "        vertical-align: top;\n",
       "    }\n",
       "\n",
       "    .dataframe thead th {\n",
       "        text-align: right;\n",
       "    }\n",
       "</style>\n",
       "<table border=\"1\" class=\"dataframe\">\n",
       "  <thead>\n",
       "    <tr style=\"text-align: right;\">\n",
       "      <th></th>\n",
       "      <th>GRE Score</th>\n",
       "      <th>TOEFL Score</th>\n",
       "      <th>University Rating</th>\n",
       "      <th>SOP</th>\n",
       "      <th>LOR</th>\n",
       "      <th>CGPA</th>\n",
       "      <th>Research</th>\n",
       "      <th>Chance of Admit</th>\n",
       "    </tr>\n",
       "  </thead>\n",
       "  <tbody>\n",
       "    <tr>\n",
       "      <th>count</th>\n",
       "      <td>400.000000</td>\n",
       "      <td>400.000000</td>\n",
       "      <td>400.000000</td>\n",
       "      <td>400.000000</td>\n",
       "      <td>400.000000</td>\n",
       "      <td>400.000000</td>\n",
       "      <td>400.000000</td>\n",
       "      <td>400.000000</td>\n",
       "    </tr>\n",
       "    <tr>\n",
       "      <th>mean</th>\n",
       "      <td>316.807500</td>\n",
       "      <td>107.410000</td>\n",
       "      <td>3.087500</td>\n",
       "      <td>3.400000</td>\n",
       "      <td>3.452500</td>\n",
       "      <td>8.598925</td>\n",
       "      <td>0.547500</td>\n",
       "      <td>0.724350</td>\n",
       "    </tr>\n",
       "    <tr>\n",
       "      <th>std</th>\n",
       "      <td>11.473646</td>\n",
       "      <td>6.069514</td>\n",
       "      <td>1.143728</td>\n",
       "      <td>1.006869</td>\n",
       "      <td>0.898478</td>\n",
       "      <td>0.596317</td>\n",
       "      <td>0.498362</td>\n",
       "      <td>0.142609</td>\n",
       "    </tr>\n",
       "    <tr>\n",
       "      <th>min</th>\n",
       "      <td>290.000000</td>\n",
       "      <td>92.000000</td>\n",
       "      <td>1.000000</td>\n",
       "      <td>1.000000</td>\n",
       "      <td>1.000000</td>\n",
       "      <td>6.800000</td>\n",
       "      <td>0.000000</td>\n",
       "      <td>0.340000</td>\n",
       "    </tr>\n",
       "    <tr>\n",
       "      <th>25%</th>\n",
       "      <td>308.000000</td>\n",
       "      <td>103.000000</td>\n",
       "      <td>2.000000</td>\n",
       "      <td>2.500000</td>\n",
       "      <td>3.000000</td>\n",
       "      <td>8.170000</td>\n",
       "      <td>0.000000</td>\n",
       "      <td>0.640000</td>\n",
       "    </tr>\n",
       "    <tr>\n",
       "      <th>50%</th>\n",
       "      <td>317.000000</td>\n",
       "      <td>107.000000</td>\n",
       "      <td>3.000000</td>\n",
       "      <td>3.500000</td>\n",
       "      <td>3.500000</td>\n",
       "      <td>8.610000</td>\n",
       "      <td>1.000000</td>\n",
       "      <td>0.730000</td>\n",
       "    </tr>\n",
       "    <tr>\n",
       "      <th>75%</th>\n",
       "      <td>325.000000</td>\n",
       "      <td>112.000000</td>\n",
       "      <td>4.000000</td>\n",
       "      <td>4.000000</td>\n",
       "      <td>4.000000</td>\n",
       "      <td>9.062500</td>\n",
       "      <td>1.000000</td>\n",
       "      <td>0.830000</td>\n",
       "    </tr>\n",
       "    <tr>\n",
       "      <th>max</th>\n",
       "      <td>340.000000</td>\n",
       "      <td>120.000000</td>\n",
       "      <td>5.000000</td>\n",
       "      <td>5.000000</td>\n",
       "      <td>5.000000</td>\n",
       "      <td>9.920000</td>\n",
       "      <td>1.000000</td>\n",
       "      <td>0.970000</td>\n",
       "    </tr>\n",
       "  </tbody>\n",
       "</table>\n",
       "</div>"
      ],
      "text/plain": [
       "        GRE Score  TOEFL Score  University Rating         SOP        LOR   \\\n",
       "count  400.000000   400.000000         400.000000  400.000000  400.000000   \n",
       "mean   316.807500   107.410000           3.087500    3.400000    3.452500   \n",
       "std     11.473646     6.069514           1.143728    1.006869    0.898478   \n",
       "min    290.000000    92.000000           1.000000    1.000000    1.000000   \n",
       "25%    308.000000   103.000000           2.000000    2.500000    3.000000   \n",
       "50%    317.000000   107.000000           3.000000    3.500000    3.500000   \n",
       "75%    325.000000   112.000000           4.000000    4.000000    4.000000   \n",
       "max    340.000000   120.000000           5.000000    5.000000    5.000000   \n",
       "\n",
       "             CGPA    Research  Chance of Admit   \n",
       "count  400.000000  400.000000        400.000000  \n",
       "mean     8.598925    0.547500          0.724350  \n",
       "std      0.596317    0.498362          0.142609  \n",
       "min      6.800000    0.000000          0.340000  \n",
       "25%      8.170000    0.000000          0.640000  \n",
       "50%      8.610000    1.000000          0.730000  \n",
       "75%      9.062500    1.000000          0.830000  \n",
       "max      9.920000    1.000000          0.970000  "
      ]
     },
     "execution_count": 3,
     "metadata": {},
     "output_type": "execute_result"
    }
   ],
   "source": [
    "# drop Serial #\n",
    "admit_data = admit_data.drop(columns=['Serial No.'], axis=1)\n",
    "admit_data.describe()"
   ]
  },
  {
   "cell_type": "code",
   "execution_count": 4,
   "metadata": {},
   "outputs": [],
   "source": [
    "# need to standardize the data, as mean and std are varying a lot\n",
    "# std should be close to 1\n",
    "from sklearn.preprocessing import scale\n",
    "admit_data[['GRE Score', 'TOEFL Score', 'SOP', 'LOR ', 'CGPA']] = scale(\n",
    "    admit_data[['GRE Score', 'TOEFL Score', 'SOP', 'LOR ', 'CGPA']])"
   ]
  },
  {
   "cell_type": "code",
   "execution_count": 5,
   "metadata": {},
   "outputs": [
    {
     "data": {
      "text/html": [
       "<div>\n",
       "<style scoped>\n",
       "    .dataframe tbody tr th:only-of-type {\n",
       "        vertical-align: middle;\n",
       "    }\n",
       "\n",
       "    .dataframe tbody tr th {\n",
       "        vertical-align: top;\n",
       "    }\n",
       "\n",
       "    .dataframe thead th {\n",
       "        text-align: right;\n",
       "    }\n",
       "</style>\n",
       "<table border=\"1\" class=\"dataframe\">\n",
       "  <thead>\n",
       "    <tr style=\"text-align: right;\">\n",
       "      <th></th>\n",
       "      <th>GRE Score</th>\n",
       "      <th>TOEFL Score</th>\n",
       "      <th>University Rating</th>\n",
       "      <th>SOP</th>\n",
       "      <th>LOR</th>\n",
       "      <th>CGPA</th>\n",
       "      <th>Research</th>\n",
       "      <th>Chance of Admit</th>\n",
       "    </tr>\n",
       "  </thead>\n",
       "  <tbody>\n",
       "    <tr>\n",
       "      <th>count</th>\n",
       "      <td>4.000000e+02</td>\n",
       "      <td>4.000000e+02</td>\n",
       "      <td>400.000000</td>\n",
       "      <td>4.000000e+02</td>\n",
       "      <td>4.000000e+02</td>\n",
       "      <td>4.000000e+02</td>\n",
       "      <td>400.000000</td>\n",
       "      <td>400.000000</td>\n",
       "    </tr>\n",
       "    <tr>\n",
       "      <th>mean</th>\n",
       "      <td>-3.785861e-16</td>\n",
       "      <td>5.412337e-16</td>\n",
       "      <td>3.087500</td>\n",
       "      <td>1.859624e-16</td>\n",
       "      <td>-3.019807e-16</td>\n",
       "      <td>8.076873e-16</td>\n",
       "      <td>0.547500</td>\n",
       "      <td>0.724350</td>\n",
       "    </tr>\n",
       "    <tr>\n",
       "      <th>std</th>\n",
       "      <td>1.001252e+00</td>\n",
       "      <td>1.001252e+00</td>\n",
       "      <td>1.143728</td>\n",
       "      <td>1.001252e+00</td>\n",
       "      <td>1.001252e+00</td>\n",
       "      <td>1.001252e+00</td>\n",
       "      <td>0.498362</td>\n",
       "      <td>0.142609</td>\n",
       "    </tr>\n",
       "    <tr>\n",
       "      <th>min</th>\n",
       "      <td>-2.339367e+00</td>\n",
       "      <td>-2.542098e+00</td>\n",
       "      <td>1.000000</td>\n",
       "      <td>-2.386613e+00</td>\n",
       "      <td>-2.733036e+00</td>\n",
       "      <td>-3.020504e+00</td>\n",
       "      <td>0.000000</td>\n",
       "      <td>0.340000</td>\n",
       "    </tr>\n",
       "    <tr>\n",
       "      <th>25%</th>\n",
       "      <td>-7.685900e-01</td>\n",
       "      <td>-7.274920e-01</td>\n",
       "      <td>2.000000</td>\n",
       "      <td>-8.949798e-01</td>\n",
       "      <td>-5.042604e-01</td>\n",
       "      <td>-7.201909e-01</td>\n",
       "      <td>0.000000</td>\n",
       "      <td>0.640000</td>\n",
       "    </tr>\n",
       "    <tr>\n",
       "      <th>50%</th>\n",
       "      <td>1.679859e-02</td>\n",
       "      <td>-6.763531e-02</td>\n",
       "      <td>3.000000</td>\n",
       "      <td>9.944220e-02</td>\n",
       "      <td>5.293342e-02</td>\n",
       "      <td>1.859559e-02</td>\n",
       "      <td>1.000000</td>\n",
       "      <td>0.730000</td>\n",
       "    </tr>\n",
       "    <tr>\n",
       "      <th>75%</th>\n",
       "      <td>7.149218e-01</td>\n",
       "      <td>7.571856e-01</td>\n",
       "      <td>4.000000</td>\n",
       "      <td>5.966532e-01</td>\n",
       "      <td>6.101273e-01</td>\n",
       "      <td>7.783704e-01</td>\n",
       "      <td>1.000000</td>\n",
       "      <td>0.830000</td>\n",
       "    </tr>\n",
       "    <tr>\n",
       "      <th>max</th>\n",
       "      <td>2.023903e+00</td>\n",
       "      <td>2.076899e+00</td>\n",
       "      <td>5.000000</td>\n",
       "      <td>1.591075e+00</td>\n",
       "      <td>1.724515e+00</td>\n",
       "      <td>2.218165e+00</td>\n",
       "      <td>1.000000</td>\n",
       "      <td>0.970000</td>\n",
       "    </tr>\n",
       "  </tbody>\n",
       "</table>\n",
       "</div>"
      ],
      "text/plain": [
       "          GRE Score   TOEFL Score  University Rating           SOP  \\\n",
       "count  4.000000e+02  4.000000e+02         400.000000  4.000000e+02   \n",
       "mean  -3.785861e-16  5.412337e-16           3.087500  1.859624e-16   \n",
       "std    1.001252e+00  1.001252e+00           1.143728  1.001252e+00   \n",
       "min   -2.339367e+00 -2.542098e+00           1.000000 -2.386613e+00   \n",
       "25%   -7.685900e-01 -7.274920e-01           2.000000 -8.949798e-01   \n",
       "50%    1.679859e-02 -6.763531e-02           3.000000  9.944220e-02   \n",
       "75%    7.149218e-01  7.571856e-01           4.000000  5.966532e-01   \n",
       "max    2.023903e+00  2.076899e+00           5.000000  1.591075e+00   \n",
       "\n",
       "               LOR           CGPA    Research  Chance of Admit   \n",
       "count  4.000000e+02  4.000000e+02  400.000000        400.000000  \n",
       "mean  -3.019807e-16  8.076873e-16    0.547500          0.724350  \n",
       "std    1.001252e+00  1.001252e+00    0.498362          0.142609  \n",
       "min   -2.733036e+00 -3.020504e+00    0.000000          0.340000  \n",
       "25%   -5.042604e-01 -7.201909e-01    0.000000          0.640000  \n",
       "50%    5.293342e-02  1.859559e-02    1.000000          0.730000  \n",
       "75%    6.101273e-01  7.783704e-01    1.000000          0.830000  \n",
       "max    1.724515e+00  2.218165e+00    1.000000          0.970000  "
      ]
     },
     "execution_count": 5,
     "metadata": {},
     "output_type": "execute_result"
    }
   ],
   "source": [
    "admit_data.describe()"
   ]
  },
  {
   "cell_type": "code",
   "execution_count": 6,
   "metadata": {},
   "outputs": [],
   "source": [
    "x = admit_data.drop('Chance of Admit ', axis=1)\n",
    "y = admit_data[['Chance of Admit ']]"
   ]
  },
  {
   "cell_type": "code",
   "execution_count": 7,
   "metadata": {},
   "outputs": [
    {
     "data": {
      "text/html": [
       "<div>\n",
       "<style scoped>\n",
       "    .dataframe tbody tr th:only-of-type {\n",
       "        vertical-align: middle;\n",
       "    }\n",
       "\n",
       "    .dataframe tbody tr th {\n",
       "        vertical-align: top;\n",
       "    }\n",
       "\n",
       "    .dataframe thead th {\n",
       "        text-align: right;\n",
       "    }\n",
       "</style>\n",
       "<table border=\"1\" class=\"dataframe\">\n",
       "  <thead>\n",
       "    <tr style=\"text-align: right;\">\n",
       "      <th></th>\n",
       "      <th>Chance of Admit</th>\n",
       "    </tr>\n",
       "  </thead>\n",
       "  <tbody>\n",
       "    <tr>\n",
       "      <th>0</th>\n",
       "      <td>0.92</td>\n",
       "    </tr>\n",
       "    <tr>\n",
       "      <th>1</th>\n",
       "      <td>0.76</td>\n",
       "    </tr>\n",
       "    <tr>\n",
       "      <th>2</th>\n",
       "      <td>0.72</td>\n",
       "    </tr>\n",
       "    <tr>\n",
       "      <th>3</th>\n",
       "      <td>0.80</td>\n",
       "    </tr>\n",
       "    <tr>\n",
       "      <th>4</th>\n",
       "      <td>0.65</td>\n",
       "    </tr>\n",
       "  </tbody>\n",
       "</table>\n",
       "</div>"
      ],
      "text/plain": [
       "   Chance of Admit \n",
       "0              0.92\n",
       "1              0.76\n",
       "2              0.72\n",
       "3              0.80\n",
       "4              0.65"
      ]
     },
     "execution_count": 7,
     "metadata": {},
     "output_type": "execute_result"
    }
   ],
   "source": [
    "y.head()"
   ]
  },
  {
   "cell_type": "code",
   "execution_count": 8,
   "metadata": {},
   "outputs": [],
   "source": [
    "target = y.copy()"
   ]
  },
  {
   "cell_type": "code",
   "execution_count": 9,
   "metadata": {},
   "outputs": [],
   "source": [
    "target.replace(to_replace = y[y >= 0.80], value=int(2), inplace=True)\n",
    "target.replace(to_replace = y[y >= 0.60], value=int(1), inplace=True)\n",
    "target.replace(to_replace = y[y < 0.60], value=int(0), inplace=True)"
   ]
  },
  {
   "cell_type": "code",
   "execution_count": 10,
   "metadata": {},
   "outputs": [],
   "source": [
    "y = target"
   ]
  },
  {
   "cell_type": "code",
   "execution_count": 11,
   "metadata": {},
   "outputs": [
    {
     "data": {
      "text/plain": [
       "array([2., 1., 0.])"
      ]
     },
     "execution_count": 11,
     "metadata": {},
     "output_type": "execute_result"
    }
   ],
   "source": [
    "y['Chance of Admit '].unique()"
   ]
  },
  {
   "cell_type": "code",
   "execution_count": 12,
   "metadata": {},
   "outputs": [],
   "source": [
    "from sklearn.model_selection import train_test_split\n",
    "x_train, x_test, y_train, y_test = train_test_split(x, y, test_size=0.2)\n",
    "\n",
    "x_train = torch.tensor(x_train.values, dtype=torch.float)\n",
    "x_test = torch.tensor(x_test.values, dtype=torch.float)\n",
    "y_train = torch.from_numpy(y_train.values).view(-1).long()\n",
    "y_test = torch.from_numpy(y_test.values).view(-1).long()"
   ]
  },
  {
   "cell_type": "code",
   "execution_count": 13,
   "metadata": {},
   "outputs": [],
   "source": [
    "# instead of using Sequential Models, build Custom Model\n",
    "import torch.nn as nn\n",
    "import torch.nn.functional as F"
   ]
  },
  {
   "cell_type": "code",
   "execution_count": 14,
   "metadata": {},
   "outputs": [],
   "source": [
    "inp = x_train.shape[1]\n",
    "out = 3"
   ]
  },
  {
   "cell_type": "code",
   "execution_count": 15,
   "metadata": {},
   "outputs": [],
   "source": [
    "# create a class called Net, and this Net class inherits from the nn.Module class"
   ]
  },
  {
   "cell_type": "code",
   "execution_count": 16,
   "metadata": {},
   "outputs": [],
   "source": [
    "class Net(nn.Module):\n",
    "    \n",
    "    def __init__(self, hidden_size, activation_fn='relu', apply_dropout=False):\n",
    "        super(Net, self).__init__()\n",
    "        \n",
    "        self.fc1 = nn.Linear(inp, hidden_size)\n",
    "        self.fc2 = nn.Linear(hidden_size, hidden_size)\n",
    "        self.fc3 = nn.Linear(hidden_size, out)\n",
    "        \n",
    "        self.hidden_size = hidden_size\n",
    "        self.activation_fn = activation_fn\n",
    "        \n",
    "        self.dropout = None\n",
    "        if apply_dropout:\n",
    "            self.dropout = nn.Dropout(p=0.2)\n",
    "            \n",
    "    def forward(self, x):\n",
    "        \n",
    "        activation_fn = None\n",
    "        if self.activation_fn == 'sigmoid':\n",
    "            activation_fn = F.torch.sigmoid\n",
    "        if self.activation_fn == 'tanh':\n",
    "            activation_fn = F.torch.tanh\n",
    "        if self.activation_fn == 'relu':\n",
    "            activation_fn = F.torch.relu\n",
    "            \n",
    "        x = activation_fn(self.fc1(x))\n",
    "        x = activation_fn(self.fc2(x))\n",
    "        \n",
    "        if self.dropout != None:\n",
    "            x = self.dropout(x)\n",
    "        \n",
    "        x = self.fc3(x)\n",
    "        return F.log_softmax(x, dim=-1)       "
   ]
  },
  {
   "cell_type": "code",
   "execution_count": 17,
   "metadata": {},
   "outputs": [],
   "source": [
    "def train_evaluate_model(model, learning_rate=0.001):\n",
    "    epoch_data = []\n",
    "    epochs = 1001\n",
    "    \n",
    "    optimizer = torch.optim.Adam(model.parameters(), lr=learning_rate)\n",
    "    \n",
    "    loss_fn = nn.NLLLoss()\n",
    "    \n",
    "    test_accuracy=0.0\n",
    "    for epoch in range(1, epochs):\n",
    "        \n",
    "        optimizer.zero_grad()\n",
    "        \n",
    "        # setting the model to training mode\n",
    "        model.train()\n",
    "        \n",
    "        y_pred = model(x_train)\n",
    "        \n",
    "        loss = loss_fn(y_pred, y_train)\n",
    "        loss.backward()\n",
    "        \n",
    "        optimizer.step()\n",
    "        \n",
    "        # setting the model to evaluation mode\n",
    "        model.eval()\n",
    "        \n",
    "        y_pred_tst = model(x_test)\n",
    "        loss_tst = loss_fn(y_pred_tst, y_test)\n",
    "        \n",
    "        _, pred = y_pred_tst.data.max(1)\n",
    "        \n",
    "        test_accuracy = pred.eq(y_test.data).sum().item() / 80 #y_test.values.size\n",
    "        \n",
    "        epoch_data.append([epoch, loss.data.item(), loss_tst.data.item(), test_accuracy])\n",
    "        \n",
    "        if epoch % 200 == 0:\n",
    "            print('epoch - %d (%d%%) train loss - %.2f test loss - %.2f Test Accuracy - %.4f'\n",
    "                 % (epoch, epoch/15, loss.data.item(), loss_tst.data.item(), test_accuracy))\n",
    "        \n",
    "        \n",
    "    return {\n",
    "        'model': model,\n",
    "        'epoch_data': epoch_data,\n",
    "        '# epochs': epochs,\n",
    "        'optimizer': optimizer,\n",
    "        'loss_fn': loss_fn, \n",
    "        'test accuracy': test_accuracy,\n",
    "        '_, pred': y_pred_tst.data.max(1),\n",
    "        'actual ypred label': y_test\n",
    "    }"
   ]
  },
  {
   "cell_type": "code",
   "execution_count": 18,
   "metadata": {},
   "outputs": [
    {
     "data": {
      "text/plain": [
       "Net(\n",
       "  (fc1): Linear(in_features=7, out_features=3, bias=True)\n",
       "  (fc2): Linear(in_features=3, out_features=3, bias=True)\n",
       "  (fc3): Linear(in_features=3, out_features=3, bias=True)\n",
       ")"
      ]
     },
     "execution_count": 18,
     "metadata": {},
     "output_type": "execute_result"
    }
   ],
   "source": [
    "net = Net(hidden_size=3, activation_fn='sigmoid', apply_dropout=False)\n",
    "net"
   ]
  },
  {
   "cell_type": "code",
   "execution_count": 19,
   "metadata": {},
   "outputs": [
    {
     "name": "stdout",
     "output_type": "stream",
     "text": [
      "epoch - 200 (13%) train loss - 1.03 test loss - 1.02 Test Accuracy - 0.5000\n",
      "epoch - 400 (26%) train loss - 0.98 test loss - 0.98 Test Accuracy - 0.5000\n",
      "epoch - 600 (40%) train loss - 0.86 test loss - 0.87 Test Accuracy - 0.7000\n",
      "epoch - 800 (53%) train loss - 0.73 test loss - 0.77 Test Accuracy - 0.7375\n",
      "epoch - 1000 (66%) train loss - 0.66 test loss - 0.72 Test Accuracy - 0.7125\n"
     ]
    }
   ],
   "source": [
    "res_3_sigmoid = train_evaluate_model(net)"
   ]
  },
  {
   "cell_type": "code",
   "execution_count": 20,
   "metadata": {},
   "outputs": [
    {
     "data": {
      "text/plain": [
       "Net(\n",
       "  (fc1): Linear(in_features=7, out_features=3, bias=True)\n",
       "  (fc2): Linear(in_features=3, out_features=3, bias=True)\n",
       "  (fc3): Linear(in_features=3, out_features=3, bias=True)\n",
       "  (dropout): Dropout(p=0.2, inplace=False)\n",
       ")"
      ]
     },
     "execution_count": 20,
     "metadata": {},
     "output_type": "execute_result"
    }
   ],
   "source": [
    "net = Net(hidden_size=3, activation_fn='sigmoid', apply_dropout=True)\n",
    "net"
   ]
  },
  {
   "cell_type": "code",
   "execution_count": 21,
   "metadata": {},
   "outputs": [
    {
     "name": "stdout",
     "output_type": "stream",
     "text": [
      "epoch - 200 (13%) train loss - 1.03 test loss - 1.01 Test Accuracy - 0.5000\n",
      "epoch - 400 (26%) train loss - 0.99 test loss - 0.99 Test Accuracy - 0.5000\n",
      "epoch - 600 (40%) train loss - 0.92 test loss - 0.92 Test Accuracy - 0.6250\n",
      "epoch - 800 (53%) train loss - 0.82 test loss - 0.82 Test Accuracy - 0.7250\n",
      "epoch - 1000 (66%) train loss - 0.73 test loss - 0.74 Test Accuracy - 0.7250\n"
     ]
    }
   ],
   "source": [
    "res_3_sigmoid_drop = train_evaluate_model(net)"
   ]
  },
  {
   "cell_type": "code",
   "execution_count": 22,
   "metadata": {},
   "outputs": [
    {
     "data": {
      "text/plain": [
       "Net(\n",
       "  (fc1): Linear(in_features=7, out_features=10, bias=True)\n",
       "  (fc2): Linear(in_features=10, out_features=10, bias=True)\n",
       "  (fc3): Linear(in_features=10, out_features=3, bias=True)\n",
       ")"
      ]
     },
     "execution_count": 22,
     "metadata": {},
     "output_type": "execute_result"
    }
   ],
   "source": [
    "net = Net(hidden_size=10, activation_fn='tanh', apply_dropout=False)\n",
    "net"
   ]
  },
  {
   "cell_type": "code",
   "execution_count": 23,
   "metadata": {},
   "outputs": [
    {
     "name": "stdout",
     "output_type": "stream",
     "text": [
      "epoch - 200 (13%) train loss - 0.49 test loss - 0.56 Test Accuracy - 0.7875\n",
      "epoch - 400 (26%) train loss - 0.42 test loss - 0.55 Test Accuracy - 0.7750\n",
      "epoch - 600 (40%) train loss - 0.38 test loss - 0.60 Test Accuracy - 0.7375\n",
      "epoch - 800 (53%) train loss - 0.36 test loss - 0.64 Test Accuracy - 0.7125\n",
      "epoch - 1000 (66%) train loss - 0.35 test loss - 0.66 Test Accuracy - 0.7250\n"
     ]
    }
   ],
   "source": [
    "res_10_tanh = train_evaluate_model(net)"
   ]
  },
  {
   "cell_type": "code",
   "execution_count": 24,
   "metadata": {},
   "outputs": [
    {
     "data": {
      "text/plain": [
       "Net(\n",
       "  (fc1): Linear(in_features=7, out_features=10, bias=True)\n",
       "  (fc2): Linear(in_features=10, out_features=10, bias=True)\n",
       "  (fc3): Linear(in_features=10, out_features=3, bias=True)\n",
       ")"
      ]
     },
     "execution_count": 24,
     "metadata": {},
     "output_type": "execute_result"
    }
   ],
   "source": [
    "net = Net(hidden_size=10, activation_fn='sigmoid', apply_dropout=False)\n",
    "net"
   ]
  },
  {
   "cell_type": "code",
   "execution_count": 25,
   "metadata": {},
   "outputs": [
    {
     "name": "stdout",
     "output_type": "stream",
     "text": [
      "epoch - 200 (13%) train loss - 0.91 test loss - 0.91 Test Accuracy - 0.5000\n",
      "epoch - 400 (26%) train loss - 0.61 test loss - 0.67 Test Accuracy - 0.7000\n",
      "epoch - 600 (40%) train loss - 0.54 test loss - 0.63 Test Accuracy - 0.6875\n",
      "epoch - 800 (53%) train loss - 0.49 test loss - 0.61 Test Accuracy - 0.7375\n",
      "epoch - 1000 (66%) train loss - 0.45 test loss - 0.58 Test Accuracy - 0.7750\n"
     ]
    }
   ],
   "source": [
    "res_10_sigmoid = train_evaluate_model(net)"
   ]
  },
  {
   "cell_type": "code",
   "execution_count": 26,
   "metadata": {},
   "outputs": [
    {
     "data": {
      "text/plain": [
       "Net(\n",
       "  (fc1): Linear(in_features=7, out_features=25, bias=True)\n",
       "  (fc2): Linear(in_features=25, out_features=25, bias=True)\n",
       "  (fc3): Linear(in_features=25, out_features=3, bias=True)\n",
       ")"
      ]
     },
     "execution_count": 26,
     "metadata": {},
     "output_type": "execute_result"
    }
   ],
   "source": [
    "net = Net(hidden_size=25, activation_fn='sigmoid', apply_dropout=False)\n",
    "net"
   ]
  },
  {
   "cell_type": "code",
   "execution_count": 27,
   "metadata": {},
   "outputs": [
    {
     "name": "stdout",
     "output_type": "stream",
     "text": [
      "epoch - 200 (13%) train loss - 0.55 test loss - 0.61 Test Accuracy - 0.7125\n",
      "epoch - 400 (26%) train loss - 0.45 test loss - 0.56 Test Accuracy - 0.7875\n",
      "epoch - 600 (40%) train loss - 0.41 test loss - 0.56 Test Accuracy - 0.7500\n",
      "epoch - 800 (53%) train loss - 0.38 test loss - 0.58 Test Accuracy - 0.7375\n",
      "epoch - 1000 (66%) train loss - 0.37 test loss - 0.60 Test Accuracy - 0.7250\n"
     ]
    }
   ],
   "source": [
    "res_25_sigmoid_drop = train_evaluate_model(net) "
   ]
  },
  {
   "cell_type": "code",
   "execution_count": 28,
   "metadata": {},
   "outputs": [],
   "source": [
    "result_model = res_10_sigmoid"
   ]
  },
  {
   "cell_type": "code",
   "execution_count": 29,
   "metadata": {},
   "outputs": [],
   "source": [
    "df_epochs_data = pd.DataFrame(result_model['epoch_data'], columns=['epoch', 'train_loss', 'test_loss', 'accuracy'])"
   ]
  },
  {
   "cell_type": "code",
   "execution_count": 30,
   "metadata": {},
   "outputs": [
    {
     "data": {
      "text/html": [
       "<div>\n",
       "<style scoped>\n",
       "    .dataframe tbody tr th:only-of-type {\n",
       "        vertical-align: middle;\n",
       "    }\n",
       "\n",
       "    .dataframe tbody tr th {\n",
       "        vertical-align: top;\n",
       "    }\n",
       "\n",
       "    .dataframe thead th {\n",
       "        text-align: right;\n",
       "    }\n",
       "</style>\n",
       "<table border=\"1\" class=\"dataframe\">\n",
       "  <thead>\n",
       "    <tr style=\"text-align: right;\">\n",
       "      <th></th>\n",
       "      <th>epoch</th>\n",
       "      <th>train_loss</th>\n",
       "      <th>test_loss</th>\n",
       "      <th>accuracy</th>\n",
       "    </tr>\n",
       "  </thead>\n",
       "  <tbody>\n",
       "    <tr>\n",
       "      <th>0</th>\n",
       "      <td>1</td>\n",
       "      <td>1.116634</td>\n",
       "      <td>1.115349</td>\n",
       "      <td>0.175</td>\n",
       "    </tr>\n",
       "    <tr>\n",
       "      <th>1</th>\n",
       "      <td>2</td>\n",
       "      <td>1.113602</td>\n",
       "      <td>1.112247</td>\n",
       "      <td>0.175</td>\n",
       "    </tr>\n",
       "    <tr>\n",
       "      <th>2</th>\n",
       "      <td>3</td>\n",
       "      <td>1.110625</td>\n",
       "      <td>1.109199</td>\n",
       "      <td>0.275</td>\n",
       "    </tr>\n",
       "    <tr>\n",
       "      <th>3</th>\n",
       "      <td>4</td>\n",
       "      <td>1.107702</td>\n",
       "      <td>1.106209</td>\n",
       "      <td>0.400</td>\n",
       "    </tr>\n",
       "    <tr>\n",
       "      <th>4</th>\n",
       "      <td>5</td>\n",
       "      <td>1.104835</td>\n",
       "      <td>1.103274</td>\n",
       "      <td>0.475</td>\n",
       "    </tr>\n",
       "  </tbody>\n",
       "</table>\n",
       "</div>"
      ],
      "text/plain": [
       "   epoch  train_loss  test_loss  accuracy\n",
       "0      1    1.116634   1.115349     0.175\n",
       "1      2    1.113602   1.112247     0.175\n",
       "2      3    1.110625   1.109199     0.275\n",
       "3      4    1.107702   1.106209     0.400\n",
       "4      5    1.104835   1.103274     0.475"
      ]
     },
     "execution_count": 30,
     "metadata": {},
     "output_type": "execute_result"
    }
   ],
   "source": [
    "df_epochs_data.head(5)"
   ]
  },
  {
   "cell_type": "code",
   "execution_count": 31,
   "metadata": {},
   "outputs": [
    {
     "data": {
      "image/png": "[encoded data removed]",
      "text/plain": [
       "<Figure size 1080x720 with 2 Axes>"
      ]
     },
     "metadata": {
      "needs_background": "light"
     },
     "output_type": "display_data"
    }
   ],
   "source": [
    "f, (ax1, ax2) = plt.subplots(1,2, figsize=(15,10))\n",
    "df_epochs_data[['train_loss', 'test_loss']].plot(ax=ax1)\n",
    "df_epochs_data[['accuracy']].plot(ax=ax2)\n",
    "plt.ylim(bottom=0.5)\n",
    "plt.show()"
   ]
  }
 ],
 "metadata": {
  "kernelspec": {
   "display_name": "Python 3",
   "language": "python",
   "name": "python3"
  },
  "language_info": {
   "codemirror_mode": {
    "name": "ipython",
    "version": 3
   },
   "file_extension": ".py",
   "mimetype": "text/x-python",
   "name": "python",
   "nbconvert_exporter": "python",
   "pygments_lexer": "ipython3",
   "version": "3.7.4"
  }
 },
 "nbformat": 4,
 "nbformat_minor": 2
}
